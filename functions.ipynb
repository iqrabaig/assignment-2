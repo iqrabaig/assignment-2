{
 "cells": [
  {
   "cell_type": "code",
   "execution_count": 2,
   "id": "d04e92c8",
   "metadata": {},
   "outputs": [
    {
     "name": "stdout",
     "output_type": "stream",
     "text": [
      "\t f'(x)\t\t err\t\t f' ' (x)\t\t err\n"
     ]
    }
   ],
   "source": [
    "import numpy as np # whenever want to declare array\n",
    "import matplotlib.pyplot as plt\n",
    "f= lambda x: 0.1*x**5 - 0.2*x**3 + 0.1*x - 0.2\n",
    "x=0.1\n",
    "h=0.1\n",
    "\n",
    "df1 = 0.09405\n",
    "df2 = -0.118\n",
    "\n",
    "print(\"\\t f'(x)\\t\\t err\\t\\t f' ' (x)\\t\\t err\")"
   ]
  },
  {
   "cell_type": "code",
   "execution_count": 3,
   "id": "e67a1129",
   "metadata": {},
   "outputs": [
    {
     "name": "stdout",
     "output_type": "stream",
     "text": [
      "FFD\t 0.086310\t-0.007740\t-0.118000\t 0.000000\n"
     ]
    }
   ],
   "source": [
    "dff1 = (f(x+h) - f(x))/h\n",
    "dff2 = (f(x+2*h) - 2*f(x+h) + f(x))/h**2\n",
    "print(\"FFD\\t% f\\t% f\\t% f\\t% f\" %(dff1,dff1-df1,df2,dff2-dff2))"
   ]
  },
  {
   "cell_type": "markdown",
   "id": "37dc05b0",
   "metadata": {},
   "source": [
    "# backward difference"
   ]
  },
  {
   "cell_type": "code",
   "execution_count": 9,
   "id": "76f4a9be",
   "metadata": {},
   "outputs": [
    {
     "name": "stdout",
     "output_type": "stream",
     "text": [
      "FFD\t 0.098010\t 0.003960\t-0.118000\t 0.000000\n"
     ]
    }
   ],
   "source": [
    "dff1 = (f(x) - f(x-h))/h\n",
    "dff2 = (f(x) - 2*f(x-h) + f(x-2*h))/h**2\n",
    "print(\"FFD\\t% f\\t% f\\t% f\\t% f\" %(dff1,dff1-df1,df2,dff2-dff2))"
   ]
  },
  {
   "cell_type": "markdown",
   "id": "9bf9ba11",
   "metadata": {},
   "source": [
    "# central difference"
   ]
  },
  {
   "cell_type": "code",
   "execution_count": 14,
   "id": "70109d93",
   "metadata": {},
   "outputs": [
    {
     "name": "stdout",
     "output_type": "stream",
     "text": [
      "CFD\t 1.634112\t 1.540062\t-0.118000\t 0.000000\n"
     ]
    }
   ],
   "source": [
    "dff1 = (f(x+h) - f(x+h)/h)\n",
    "dff2 = (f(x+h) - 2*f(x)+ f(x-h))/h**2\n",
    "print(\"CFD\\t% f\\t% f\\t% f\\t% f\" %(dff1,dff1-df1,df2,dff2-dff2))\n"
   ]
  },
  {
   "cell_type": "code",
   "execution_count": null,
   "id": "2de2d1bd",
   "metadata": {},
   "outputs": [],
   "source": []
  },
  {
   "cell_type": "code",
   "execution_count": 15,
   "id": "01a20381",
   "metadata": {},
   "outputs": [
    {
     "name": "stdout",
     "output_type": "stream",
     "text": [
      "\t f'(x)\t\t err\t\t f' ' (x)\t\t err\n",
      "FFD\t 0.086310\t-0.007740\t-0.118000\t 0.000000\n",
      "FFD\t 0.098010\t 0.003960\t-0.118000\t 0.000000\n",
      "CFD\t 1.634112\t 1.540062\t-0.118000\t 0.000000\n"
     ]
    }
   ],
   "source": [
    "import numpy as np # whenever want to declare array\n",
    "import matplotlib.pyplot as plt\n",
    "f= lambda x: 0.1*x**5 - 0.2*x**3 + 0.1*x - 0.2\n",
    "x=0.1\n",
    "h=0.1\n",
    "\n",
    "df1 = 0.09405\n",
    "df2 = -0.118\n",
    "\n",
    "print(\"\\t f'(x)\\t\\t err\\t\\t f' ' (x)\\t\\t err\")\n",
    "dff1 = (f(x+h) - f(x))/h\n",
    "dff2 = (f(x+2*h) - 2*f(x+h) + f(x))/h**2\n",
    "print(\"FFD\\t% f\\t% f\\t% f\\t% f\" %(dff1,dff1-df1,df2,dff2-dff2))\n",
    "dff1 = (f(x) - f(x-h))/h\n",
    "dff2 = (f(x) - 2*f(x-h) + f(x-2*h))/h**2\n",
    "print(\"FFD\\t% f\\t% f\\t% f\\t% f\" %(dff1,dff1-df1,df2,dff2-dff2))\n",
    "dff1 = (f(x+h) - f(x+h)/h)\n",
    "dff2 = (f(x+h) - 2*f(x)+ f(x-h))/h**2\n",
    "print(\"CFD\\t% f\\t% f\\t% f\\t% f\" %(dff1,dff1-df1,df2,dff2-dff2))"
   ]
  },
  {
   "cell_type": "code",
   "execution_count": 18,
   "id": "1f4fca3c",
   "metadata": {},
   "outputs": [
    {
     "data": {
      "text/plain": [
       "<function matplotlib.pyplot.grid(b=None, which='major', axis='both', **kwargs)>"
      ]
     },
     "execution_count": 18,
     "metadata": {},
     "output_type": "execute_result"
    },
    {
     "data": {
      "image/png": "[encoded data removed]",
      "text/plain": [
       "<Figure size 432x288 with 1 Axes>"
      ]
     },
     "metadata": {
      "needs_background": "light"
     },
     "output_type": "display_data"
    }
   ],
   "source": [
    "import numpy as np # whenever want to declare array\n",
    "import matplotlib.pyplot as plt\n",
    "f= lambda x: 0.1*x**5 - 0.2*x**3 + 0.1*x - 0.2\n",
    "h=0.1\n",
    "x = np.linspace(-1,1,50)\n",
    "# central difference\n",
    "dff1 = (f(x+h) - f(x+h)/h)\n",
    "dff2 = (f(x+h) - 2*f(x)+ f(x-h))/h**2\n",
    " # plot\n",
    "plt.plot(x,f(x), '-k', x, dff1,'--b', x,dff2,'-.r')\n",
    "plt.xlabel('x')\n",
    "plt.ylabel('y')\n",
    "\n",
    "plt.legend([\"f(x)\",\"f'(x)\",\"f''(x)'\"])\n",
    "plt.grid"
   ]
  },
  {
   "cell_type": "code",
   "execution_count": null,
   "id": "16bd2ed9",
   "metadata": {},
   "outputs": [],
   "source": []
  }
 ],
 "metadata": {
  "kernelspec": {
   "display_name": "Python 3 (ipykernel)",
   "language": "python",
   "name": "python3"
  },
  "language_info": {
   "codemirror_mode": {
    "name": "ipython",
    "version": 3
   },
   "file_extension": ".py",
   "mimetype": "text/x-python",
   "name": "python",
   "nbconvert_exporter": "python",
   "pygments_lexer": "ipython3",
   "version": "3.9.7"
  }
 },
 "nbformat": 4,
 "nbformat_minor": 5
}
