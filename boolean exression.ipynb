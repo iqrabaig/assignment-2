{
 "cells": [
  {
   "cell_type": "markdown",
   "id": "e418b545",
   "metadata": {},
   "source": [
    "# boolean expression"
   ]
  },
  {
   "cell_type": "code",
   "execution_count": null,
   "id": "6f8b12f9",
   "metadata": {},
   "outputs": [],
   "source": []
  },
  {
   "cell_type": "code",
   "execution_count": 13,
   "id": "d10d7a17",
   "metadata": {},
   "outputs": [
    {
     "name": "stdout",
     "output_type": "stream",
     "text": [
      "False\n",
      "False\n",
      "<class 'bool'>\n",
      "False\n",
      "True\n",
      "False\n",
      "True\n"
     ]
    }
   ],
   "source": [
    "t= True\n",
    "f= False\n",
    "c=t and f\n",
    "g=t and f or c\n",
    "print(c)\n",
    "print(g)\n",
    "print(type(t))\n",
    "print(t and f)\n",
    "print(t or f)\n",
    "print(not t)\n",
    "print(t!=f)\n"
   ]
  },
  {
   "cell_type": "code",
   "execution_count": 16,
   "id": "c8d3d532",
   "metadata": {},
   "outputs": [
    {
     "ename": "SyntaxError",
     "evalue": "invalid syntax (<ipython-input-16-fbf4a6c4f5d2>, line 9)",
     "output_type": "error",
     "traceback": [
      "\u001b[1;36m  File \u001b[1;32m\"<ipython-input-16-fbf4a6c4f5d2>\"\u001b[1;36m, line \u001b[1;32m9\u001b[0m\n\u001b[1;33m    print(t!)\u001b[0m\n\u001b[1;37m           ^\u001b[0m\n\u001b[1;31mSyntaxError\u001b[0m\u001b[1;31m:\u001b[0m invalid syntax\n"
     ]
    }
   ],
   "source": [
    "t= \"True\"\n",
    "f= \"False\"\n",
    "c= \"true\"\n",
    "\n",
    "print(type(t))\n",
    "print(t and f)\n",
    "print(t or f)\n",
    "print(not t)\n",
    "print(t!)"
   ]
  },
  {
   "cell_type": "code",
   "execution_count": 26,
   "id": "913b1e21",
   "metadata": {},
   "outputs": [
    {
     "name": "stdout",
     "output_type": "stream",
     "text": [
      "<class 'bool'>\n",
      "True\n",
      "True\n",
      "False\n",
      "True\n"
     ]
    }
   ],
   "source": [
    "t= True\n",
    "f= False\n",
    "print(type(t))\n",
    "print(t and t and t)\n",
    "print(t or f)\n",
    "print(not t)\n",
    "print(t!=f)\n"
   ]
  },
  {
   "cell_type": "markdown",
   "id": "fd7053b5",
   "metadata": {},
   "source": [
    "nums=list(range(5))\n",
    "print(nums)\n",
    "print(nums[2:4])\n",
    "print(nums[2:])\n",
    "print(nums[:])\n",
    "print(nums[:-1])\n",
    "nums[2:4]=[8,9]\n",
    "nums[1:2]=[5,7]\n",
    "\n",
    "print(nums)\n",
    "\n"
   ]
  },
  {
   "cell_type": "code",
   "execution_count": 29,
   "id": "e8db04fc",
   "metadata": {},
   "outputs": [
    {
     "name": "stdout",
     "output_type": "stream",
     "text": [
      "[0, 1, 2, 3, 4]\n",
      "[2, 3]\n",
      "[2, 3, 4]\n",
      "[0, 1, 2, 3, 4]\n",
      "[0, 1, 2, 3]\n",
      "[0, 5, 8, 8, 9, 4]\n"
     ]
    }
   ],
   "source": [
    "nums=list(range(5))\n",
    "print(nums) \n",
    "print(nums[2:4])\n",
    "print(nums[2:])\n",
    "print(nums[:])\n",
    "print(nums[:-1]) \n",
    "nums[2:4]=[8,9] \n",
    "nums[1:2]=[5,7]\n",
    "nums[2:3:4]=[8]\n",
    "print(nums)"
   ]
  },
  {
   "cell_type": "code",
   "execution_count": null,
   "id": "e9f7932e",
   "metadata": {},
   "outputs": [],
   "source": []
  }
 ],
 "metadata": {
  "kernelspec": {
   "display_name": "Python 3 (ipykernel)",
   "language": "python",
   "name": "python3"
  },
  "language_info": {
   "codemirror_mode": {
    "name": "ipython",
    "version": 3
   },
   "file_extension": ".py",
   "mimetype": "text/x-python",
   "name": "python",
   "nbconvert_exporter": "python",
   "pygments_lexer": "ipython3",
   "version": "3.9.7"
  }
 },
 "nbformat": 4,
 "nbformat_minor": 5
}
